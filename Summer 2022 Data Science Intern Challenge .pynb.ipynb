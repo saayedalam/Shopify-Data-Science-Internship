{
 "cells": [
  {
   "cell_type": "markdown",
   "metadata": {},
   "source": [
    "\n",
    "# Summer 2022 Data Science Intern Challenge "
   ]
  },
  {
   "cell_type": "markdown",
   "metadata": {},
   "source": [
    "### Question 1\n",
    "**On Shopify, we have exactly 100 sneaker shops, and each of these shops sells only one model of shoe. We want to do some analysis of the average order value (AOV). When we look at orders data over a 30 day window, we naively calculate an AOV of $3145.13. Given that we know these shops are selling sneakers, a relatively affordable item, something seems wrong with our analysis.**"
   ]
  },
  {
   "cell_type": "code",
   "execution_count": 35,
   "metadata": {},
   "outputs": [
    {
     "name": "stdout",
     "output_type": "stream",
     "text": [
      "Number of sneakers shops :100\n",
      "Average order value (AOV) of thee sneaker shops is 3145.13\n"
     ]
    },
    {
     "data": {
      "text/html": [
       "<div>\n",
       "<style scoped>\n",
       "    .dataframe tbody tr th:only-of-type {\n",
       "        vertical-align: middle;\n",
       "    }\n",
       "\n",
       "    .dataframe tbody tr th {\n",
       "        vertical-align: top;\n",
       "    }\n",
       "\n",
       "    .dataframe thead th {\n",
       "        text-align: right;\n",
       "    }\n",
       "</style>\n",
       "<table border=\"1\" class=\"dataframe\">\n",
       "  <thead>\n",
       "    <tr style=\"text-align: right;\">\n",
       "      <th></th>\n",
       "      <th>shop_id</th>\n",
       "      <th>user_id</th>\n",
       "      <th>order_amount</th>\n",
       "      <th>total_items</th>\n",
       "      <th>payment_method</th>\n",
       "      <th>created_at</th>\n",
       "    </tr>\n",
       "    <tr>\n",
       "      <th>order_id</th>\n",
       "      <th></th>\n",
       "      <th></th>\n",
       "      <th></th>\n",
       "      <th></th>\n",
       "      <th></th>\n",
       "      <th></th>\n",
       "    </tr>\n",
       "  </thead>\n",
       "  <tbody>\n",
       "    <tr>\n",
       "      <th>1</th>\n",
       "      <td>53</td>\n",
       "      <td>746</td>\n",
       "      <td>224</td>\n",
       "      <td>2</td>\n",
       "      <td>cash</td>\n",
       "      <td>2017-03-13 12:36:56</td>\n",
       "    </tr>\n",
       "    <tr>\n",
       "      <th>2</th>\n",
       "      <td>92</td>\n",
       "      <td>925</td>\n",
       "      <td>90</td>\n",
       "      <td>1</td>\n",
       "      <td>cash</td>\n",
       "      <td>2017-03-03 17:38:52</td>\n",
       "    </tr>\n",
       "    <tr>\n",
       "      <th>3</th>\n",
       "      <td>44</td>\n",
       "      <td>861</td>\n",
       "      <td>144</td>\n",
       "      <td>1</td>\n",
       "      <td>cash</td>\n",
       "      <td>2017-03-14 4:23:56</td>\n",
       "    </tr>\n",
       "    <tr>\n",
       "      <th>4</th>\n",
       "      <td>18</td>\n",
       "      <td>935</td>\n",
       "      <td>156</td>\n",
       "      <td>1</td>\n",
       "      <td>credit_card</td>\n",
       "      <td>2017-03-26 12:43:37</td>\n",
       "    </tr>\n",
       "    <tr>\n",
       "      <th>5</th>\n",
       "      <td>18</td>\n",
       "      <td>883</td>\n",
       "      <td>156</td>\n",
       "      <td>1</td>\n",
       "      <td>credit_card</td>\n",
       "      <td>2017-03-01 4:35:11</td>\n",
       "    </tr>\n",
       "  </tbody>\n",
       "</table>\n",
       "</div>"
      ],
      "text/plain": [
       "          shop_id  user_id  order_amount  total_items payment_method  \\\n",
       "order_id                                                               \n",
       "1              53      746           224            2           cash   \n",
       "2              92      925            90            1           cash   \n",
       "3              44      861           144            1           cash   \n",
       "4              18      935           156            1    credit_card   \n",
       "5              18      883           156            1    credit_card   \n",
       "\n",
       "                   created_at  \n",
       "order_id                       \n",
       "1         2017-03-13 12:36:56  \n",
       "2         2017-03-03 17:38:52  \n",
       "3          2017-03-14 4:23:56  \n",
       "4         2017-03-26 12:43:37  \n",
       "5          2017-03-01 4:35:11  "
      ]
     },
     "execution_count": 35,
     "metadata": {},
     "output_type": "execute_result"
    }
   ],
   "source": [
    "import pandas as pd # load library\n",
    "import matplotlib.pyplot as plt # visualize package\n",
    "df = pd.read_csv(\"data.csv\", index_col=\"order_id\") # load data\n",
    "\n",
    "print(f\"Number of sneakers shops :{df['shop_id'].nunique()}\")\n",
    "print(f\"Average order value (AOV) of thee sneaker shops is {round(df['order_amount'].sum()/len(df), 2)}\")\n",
    "df.head() # view first 5 entries of dataset"
   ]
  },
  {
   "cell_type": "markdown",
   "metadata": {},
   "source": [
    "***Think about what could be going wrong with our calculation. Think about a better way to evaluate this data.***\n",
    "> The value of order_amount as visualized by the box plot below shows the reason behind the wrong calculation. By calculating the quantile of the order amount, we can see 98% of the sneaker sold were below $800. Both order amount and total items features are correlated meaning high amount equals high number of sneakers sold. From the graph, the sneakers sold in bulk are outliers that skew up the average in this dataset.   \n",
    "> A better way to evaluate this data for sneaker shops owner is to consider all three measures of central tendency - mean, median and mode. We can also categorize shops into bulk sellers and not bulk sellers."
   ]
  },
  {
   "cell_type": "code",
   "execution_count": 131,
   "metadata": {},
   "outputs": [
    {
     "name": "stdout",
     "output_type": "stream",
     "text": [
      "Order amount and total items has 0.99% correlation\n",
      "98% of the order amount is below $800.08\n"
     ]
    },
    {
     "data": {
      "image/png": "[encoded data removed]",
      "text/plain": [
       "<Figure size 432x288 with 2 Axes>"
      ]
     },
     "metadata": {},
     "output_type": "display_data"
    }
   ],
   "source": [
    "print(f\"Order amount and total items has {round(df['order_amount'].corr(df['total_items']), 2)}% correlation\")\n",
    "print(f\"98% of the order amount is below ${round(df['order_amount'].quantile(.98), 2)}\")\n",
    "fig, ax = plt.subplots(1, 2)\n",
    "ax[0].boxplot(df['order_amount'], showfliers=False)\n",
    "ax[0].set_title(\"No Outliers\")\n",
    "ax[0].get_xaxis().set_visible(False)\n",
    "ax[1].boxplot(df['order_amount'], showfliers=True)\n",
    "ax[1].set_title(\"Outliers\")\n",
    "ax[1].get_xaxis().set_visible(False)\n",
    "plt.suptitle('Order Amount')\n",
    "fig.tight_layout()\n",
    "plt.show()"
   ]
  },
  {
   "cell_type": "markdown",
   "metadata": {},
   "source": [
    "***What metric would you report for this dataset?***\n",
    "> I would look at the most frequently occurring order value i.e. modal order value to increase the overall revenue. "
   ]
  },
  {
   "cell_type": "markdown",
   "metadata": {},
   "source": [
    "***What is its value?***\n",
    "> Modal order value is $153"
   ]
  },
  {
   "cell_type": "code",
   "execution_count": 148,
   "metadata": {},
   "outputs": [
    {
     "data": {
      "text/plain": [
       "[153]"
      ]
     },
     "execution_count": 148,
     "metadata": {},
     "output_type": "execute_result"
    }
   ],
   "source": [
    "df['order_amount'].mode().tolist()"
   ]
  },
  {
   "cell_type": "markdown",
   "metadata": {},
   "source": [
    " ### Question 2\n",
    " **For this question you’ll need to use SQL. [Follow this link](https://www.w3schools.com/SQL/TRYSQL.ASP?FILENAME=TRYSQL_SELECT_ALL) to access the data set required for the challenge. Please use queries to answer the following questions. Paste your queries along with your final numerical answers below.**\n"
   ]
  },
  {
   "cell_type": "markdown",
   "metadata": {},
   "source": [
    "***How many orders were shipped by Speedy Express in total?***\n",
    "> 54"
   ]
  },
  {
   "cell_type": "code",
   "execution_count": null,
   "metadata": {},
   "outputs": [],
   "source": [
    "SELECT COUNT(*) as total_shipment_speedexpress\n",
    "FROM Shippers as s\n",
    "LEFT JOIN Orders as o\n",
    "ON s.ShipperID = o.ShipperID\n",
    "WHERE ShipperName = \"Speedy Express\""
   ]
  },
  {
   "cell_type": "markdown",
   "metadata": {},
   "source": [
    "***What is the last name of the employee with the most orders?***\n",
    "> Peacock\t40"
   ]
  },
  {
   "cell_type": "code",
   "execution_count": null,
   "metadata": {},
   "outputs": [],
   "source": [
    "SELECT e.LastName, COUNT(DISTINCT o.OrderID) as num_of_orders\n",
    "FROM Employees as e\n",
    "LEFT JOIN Orders as o\n",
    "ON e.EmployeeID = o.EmployeeID\n",
    "GROUP BY e.EmployeeID\n",
    "ORDER BY num_of_orders DESC\n",
    "LIMIT 1\n"
   ]
  },
  {
   "cell_type": "markdown",
   "metadata": {},
   "source": [
    "**What product was ordered the most by customers in Germany?**\n",
    "> Boston Crab Meat 160"
   ]
  },
  {
   "cell_type": "code",
   "execution_count": null,
   "metadata": {},
   "outputs": [],
   "source": [
    "SELECT p.ProductName, od.OrderID, SUM(od.Quantity) as Total_Quantity, o.CustomerID, c.Country\n",
    "FROM Products as p\n",
    "LEFT JOIN OrderDetails as od\n",
    "ON p.ProductID = od.ProductID\n",
    "LEFT JOIN Orders as o\n",
    "ON od.OrderID = o.OrderID\n",
    "LEFT JOIN Customers as c\n",
    "ON o.CustomerID = c.CustomerID\n",
    "WHERE c.Country = \"Germany\"\n",
    "GROUP BY p.ProductName\n",
    "ORDER BY Total_Quantity DESC\n",
    "LIMIT 1"
   ]
  }
 ],
 "metadata": {
  "interpreter": {
   "hash": "83bcfd85c43f2b58ddb39807b77c3ac34d4af152a42f7a7a0f489f9ce343da09"
  },
  "kernelspec": {
   "display_name": "Python 3.9.7 64-bit",
   "language": "python",
   "name": "python3"
  },
  "language_info": {
   "codemirror_mode": {
    "name": "ipython",
    "version": 3
   },
   "file_extension": ".py",
   "mimetype": "text/x-python",
   "name": "python",
   "nbconvert_exporter": "python",
   "pygments_lexer": "ipython3",
   "version": "3.9.7"
  },
  "orig_nbformat": 4
 },
 "nbformat": 4,
 "nbformat_minor": 2
}
